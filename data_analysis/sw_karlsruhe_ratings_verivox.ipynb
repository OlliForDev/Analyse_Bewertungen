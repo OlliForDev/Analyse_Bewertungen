{
 "cells": [
  {
   "cell_type": "markdown",
   "id": "90456b2f-1e85-40f7-9305-b21933f1c9f4",
   "metadata": {},
   "source": [
    "# Wie aussagekräftig sind die Bewertungen von Verivox für den Anbieter Stadtwerke Karlsruhe?\n",
    "\n",
    "Projektanlass: \n",
    "Bei einer Recherche zu Stromanbietern und insbesondere bei der Betrachtung verschiedenster Rezensionen auf der Plattform Verivox, ist mir eine gewisse Intransparenz bezüglich der Ratingberechnung aufgefallen. So fiel mir auf, dass der Anbieter eine sehr gute Bewertung erhielt, jedoch sehr viele Bewertungen ohne Punktevergabe eingereicht wurden. Mich interessiert diesbezüglich, wie genau mit solchen Bewertungen ohne Punktevergabe umgegangen wird und welchen Einfluss diese eventuell besitzen.\n",
    "\n",
    "Ziele des Projekts: \n",
    "\n",
    "    1. Verständnis für die Kennzahl 'Kundenempfehlung' gewinnen --> für SW Karlsruhe = 88%\n",
    "    \n",
    "    2. Welchen Einfluss haben die Bewertungen ohne Punktevergabe auf die Berechnungen?\n"
   ]
  },
  {
   "cell_type": "code",
   "execution_count": 1,
   "id": "48c0dba4-cb7b-418d-a55e-c72d66254a6e",
   "metadata": {},
   "outputs": [],
   "source": [
    "import pandas as pd"
   ]
  },
  {
   "cell_type": "markdown",
   "id": "656d436a-86b4-439b-9790-fa5286126227",
   "metadata": {},
   "source": [
    "lade alle Ratings der Stadtwerke Karlsruhe, die auf Verivox veröffentlich wurden."
   ]
  },
  {
   "cell_type": "code",
   "execution_count": 5,
   "id": "fcad4039-572c-4716-84d2-cb250d655a19",
   "metadata": {},
   "outputs": [],
   "source": [
    "ratings_df = pd.read_csv('sw_karlsruhe_ratings_verivox.csv')"
   ]
  },
  {
   "cell_type": "code",
   "execution_count": 7,
   "id": "d87d044b-50ac-45b1-95eb-d3f3a479d0c4",
   "metadata": {},
   "outputs": [
    {
     "data": {
      "text/html": [
       "<div>\n",
       "<style scoped>\n",
       "    .dataframe tbody tr th:only-of-type {\n",
       "        vertical-align: middle;\n",
       "    }\n",
       "\n",
       "    .dataframe tbody tr th {\n",
       "        vertical-align: top;\n",
       "    }\n",
       "\n",
       "    .dataframe thead th {\n",
       "        text-align: right;\n",
       "    }\n",
       "</style>\n",
       "<table border=\"1\" class=\"dataframe\">\n",
       "  <thead>\n",
       "    <tr style=\"text-align: right;\">\n",
       "      <th></th>\n",
       "      <th>rts_id</th>\n",
       "      <th>rts_title</th>\n",
       "      <th>rts_scoring_price</th>\n",
       "      <th>rts_scoring_provider_change</th>\n",
       "      <th>rts_scoring_service</th>\n",
       "      <th>rts_date_of_order</th>\n",
       "      <th>rts_date_of_change</th>\n",
       "      <th>rts_provider</th>\n",
       "    </tr>\n",
       "  </thead>\n",
       "  <tbody>\n",
       "    <tr>\n",
       "      <th>0</th>\n",
       "      <td>1</td>\n",
       "      <td>Kunde würde wieder zu diesem Anbieter wechseln.</td>\n",
       "      <td>100</td>\n",
       "      <td>80</td>\n",
       "      <td>100</td>\n",
       "      <td>Mai 2024</td>\n",
       "      <td>Juni 2024</td>\n",
       "      <td>Stadtwerke Karlsruhe</td>\n",
       "    </tr>\n",
       "    <tr>\n",
       "      <th>1</th>\n",
       "      <td>2</td>\n",
       "      <td>Kunde würde wieder zu diesem Anbieter wechseln.</td>\n",
       "      <td>0</td>\n",
       "      <td>0</td>\n",
       "      <td>0</td>\n",
       "      <td>April 2024</td>\n",
       "      <td>Juni 2024</td>\n",
       "      <td>Stadtwerke Karlsruhe</td>\n",
       "    </tr>\n",
       "    <tr>\n",
       "      <th>2</th>\n",
       "      <td>3</td>\n",
       "      <td>Kunde würde wieder zu diesem Anbieter wechseln.</td>\n",
       "      <td>80</td>\n",
       "      <td>100</td>\n",
       "      <td>100</td>\n",
       "      <td>April 2024</td>\n",
       "      <td>Juni 2024</td>\n",
       "      <td>Stadtwerke Karlsruhe</td>\n",
       "    </tr>\n",
       "    <tr>\n",
       "      <th>3</th>\n",
       "      <td>4</td>\n",
       "      <td>Kunde würde wieder zu diesem Anbieter wechseln.</td>\n",
       "      <td>0</td>\n",
       "      <td>0</td>\n",
       "      <td>0</td>\n",
       "      <td>April 2024</td>\n",
       "      <td>Mai 2024</td>\n",
       "      <td>Stadtwerke Karlsruhe</td>\n",
       "    </tr>\n",
       "    <tr>\n",
       "      <th>4</th>\n",
       "      <td>5</td>\n",
       "      <td>Kunde würde wieder zu diesem Anbieter wechseln.</td>\n",
       "      <td>100</td>\n",
       "      <td>100</td>\n",
       "      <td>100</td>\n",
       "      <td>April 2024</td>\n",
       "      <td>Mai 2024</td>\n",
       "      <td>Stadtwerke Karlsruhe</td>\n",
       "    </tr>\n",
       "    <tr>\n",
       "      <th>...</th>\n",
       "      <td>...</td>\n",
       "      <td>...</td>\n",
       "      <td>...</td>\n",
       "      <td>...</td>\n",
       "      <td>...</td>\n",
       "      <td>...</td>\n",
       "      <td>...</td>\n",
       "      <td>...</td>\n",
       "    </tr>\n",
       "    <tr>\n",
       "      <th>131</th>\n",
       "      <td>132</td>\n",
       "      <td>Kunde würde wieder zu diesem Anbieter wechseln.</td>\n",
       "      <td>100</td>\n",
       "      <td>100</td>\n",
       "      <td>100</td>\n",
       "      <td>Juli 2020</td>\n",
       "      <td>Oktober 2020</td>\n",
       "      <td>Stadtwerke Karlsruhe</td>\n",
       "    </tr>\n",
       "    <tr>\n",
       "      <th>132</th>\n",
       "      <td>133</td>\n",
       "      <td>Kunde würde wieder zu diesem Anbieter wechseln.</td>\n",
       "      <td>100</td>\n",
       "      <td>100</td>\n",
       "      <td>100</td>\n",
       "      <td>August 2020</td>\n",
       "      <td>Oktober 2020</td>\n",
       "      <td>Stadtwerke Karlsruhe</td>\n",
       "    </tr>\n",
       "    <tr>\n",
       "      <th>133</th>\n",
       "      <td>134</td>\n",
       "      <td>Kunde würde wieder zu diesem Anbieter wechseln.</td>\n",
       "      <td>0</td>\n",
       "      <td>0</td>\n",
       "      <td>0</td>\n",
       "      <td>Juli 2020</td>\n",
       "      <td>September 2020</td>\n",
       "      <td>Stadtwerke Karlsruhe</td>\n",
       "    </tr>\n",
       "    <tr>\n",
       "      <th>134</th>\n",
       "      <td>135</td>\n",
       "      <td>Kunde würde wieder zu diesem Anbieter wechseln.</td>\n",
       "      <td>0</td>\n",
       "      <td>0</td>\n",
       "      <td>0</td>\n",
       "      <td>Juli 2020</td>\n",
       "      <td>September 2020</td>\n",
       "      <td>Stadtwerke Karlsruhe</td>\n",
       "    </tr>\n",
       "    <tr>\n",
       "      <th>135</th>\n",
       "      <td>136</td>\n",
       "      <td>Kunde würde wieder zu diesem Anbieter wechseln.</td>\n",
       "      <td>100</td>\n",
       "      <td>0</td>\n",
       "      <td>0</td>\n",
       "      <td>Juli 2020</td>\n",
       "      <td>August 2020</td>\n",
       "      <td>Stadtwerke Karlsruhe</td>\n",
       "    </tr>\n",
       "  </tbody>\n",
       "</table>\n",
       "<p>136 rows × 8 columns</p>\n",
       "</div>"
      ],
      "text/plain": [
       "     rts_id                                        rts_title  \\\n",
       "0         1  Kunde würde wieder zu diesem Anbieter wechseln.   \n",
       "1         2  Kunde würde wieder zu diesem Anbieter wechseln.   \n",
       "2         3  Kunde würde wieder zu diesem Anbieter wechseln.   \n",
       "3         4  Kunde würde wieder zu diesem Anbieter wechseln.   \n",
       "4         5  Kunde würde wieder zu diesem Anbieter wechseln.   \n",
       "..      ...                                              ...   \n",
       "131     132  Kunde würde wieder zu diesem Anbieter wechseln.   \n",
       "132     133  Kunde würde wieder zu diesem Anbieter wechseln.   \n",
       "133     134  Kunde würde wieder zu diesem Anbieter wechseln.   \n",
       "134     135  Kunde würde wieder zu diesem Anbieter wechseln.   \n",
       "135     136  Kunde würde wieder zu diesem Anbieter wechseln.   \n",
       "\n",
       "     rts_scoring_price  rts_scoring_provider_change  rts_scoring_service  \\\n",
       "0                  100                           80                  100   \n",
       "1                    0                            0                    0   \n",
       "2                   80                          100                  100   \n",
       "3                    0                            0                    0   \n",
       "4                  100                          100                  100   \n",
       "..                 ...                          ...                  ...   \n",
       "131                100                          100                  100   \n",
       "132                100                          100                  100   \n",
       "133                  0                            0                    0   \n",
       "134                  0                            0                    0   \n",
       "135                100                            0                    0   \n",
       "\n",
       "    rts_date_of_order rts_date_of_change          rts_provider  \n",
       "0            Mai 2024          Juni 2024  Stadtwerke Karlsruhe  \n",
       "1          April 2024          Juni 2024  Stadtwerke Karlsruhe  \n",
       "2          April 2024          Juni 2024  Stadtwerke Karlsruhe  \n",
       "3          April 2024           Mai 2024  Stadtwerke Karlsruhe  \n",
       "4          April 2024           Mai 2024  Stadtwerke Karlsruhe  \n",
       "..                ...                ...                   ...  \n",
       "131         Juli 2020       Oktober 2020  Stadtwerke Karlsruhe  \n",
       "132       August 2020       Oktober 2020  Stadtwerke Karlsruhe  \n",
       "133         Juli 2020     September 2020  Stadtwerke Karlsruhe  \n",
       "134         Juli 2020     September 2020  Stadtwerke Karlsruhe  \n",
       "135         Juli 2020        August 2020  Stadtwerke Karlsruhe  \n",
       "\n",
       "[136 rows x 8 columns]"
      ]
     },
     "execution_count": 7,
     "metadata": {},
     "output_type": "execute_result"
    }
   ],
   "source": [
    "ratings_df"
   ]
  },
  {
   "cell_type": "code",
   "execution_count": 33,
   "id": "391e2dd7-3fdb-470b-8401-cfa8abe20029",
   "metadata": {},
   "outputs": [],
   "source": [
    "number_of_ratings = ratings_df.rts_id.count()"
   ]
  },
  {
   "cell_type": "code",
   "execution_count": 35,
   "id": "578494db-f66c-4345-837b-b0815a275a5b",
   "metadata": {},
   "outputs": [
    {
     "data": {
      "text/plain": [
       "136"
      ]
     },
     "execution_count": 35,
     "metadata": {},
     "output_type": "execute_result"
    }
   ],
   "source": [
    "number_of_ratings"
   ]
  },
  {
   "cell_type": "code",
   "execution_count": 37,
   "id": "c02422a9-d950-458d-8a8b-58d0934cab2f",
   "metadata": {},
   "outputs": [],
   "source": [
    "number_of_good_ratings = ratings_df[ratings_df['rts_title'] == 'Kunde würde wieder zu diesem Anbieter wechseln.'].rts_id.count()"
   ]
  },
  {
   "cell_type": "code",
   "execution_count": 39,
   "id": "7f810a89-a925-441a-aafb-397d8588c5be",
   "metadata": {},
   "outputs": [
    {
     "data": {
      "text/plain": [
       "119"
      ]
     },
     "execution_count": 39,
     "metadata": {},
     "output_type": "execute_result"
    }
   ],
   "source": [
    "number_of_good_ratings"
   ]
  },
  {
   "cell_type": "code",
   "execution_count": 41,
   "id": "31729835-a34b-4bd1-a084-174842f3989c",
   "metadata": {},
   "outputs": [],
   "source": [
    "good_rating_ratio = number_of_good_ratings/number_of_ratings"
   ]
  },
  {
   "cell_type": "code",
   "execution_count": 43,
   "id": "515dfcf6-0ace-4230-b734-785d34334fd0",
   "metadata": {},
   "outputs": [
    {
     "data": {
      "text/plain": [
       "0.875"
      ]
     },
     "execution_count": 43,
     "metadata": {},
     "output_type": "execute_result"
    }
   ],
   "source": [
    "good_rating_ratio"
   ]
  },
  {
   "cell_type": "markdown",
   "id": "fce94816-e565-4d61-b008-ce0915709871",
   "metadata": {},
   "source": [
    "## Schlussfolgerung / Antwort Ziel 1\n",
    "\n",
    "Aus der Berechnung good_rating_ratio lässt sich schlussfolgern, dass alle Bewertungen für die Berechnung der Kennzahl 'Kundenempfehlung' herangezogen werden. Schlussendlich entspricht der Anteil der Bewertungen mit dem Titel 'Kunde würde wieder zu diesem Anbieter wechseln.' dem Anteil an Nutzern, die eine Kundenempfehlung aussprechen.\n",
    "\n"
   ]
  },
  {
   "cell_type": "code",
   "execution_count": 92,
   "id": "d19d927e-0dea-4449-922e-996b6f8dff73",
   "metadata": {},
   "outputs": [],
   "source": [
    "detailed_ratings_df = ratings_df[(ratings_df['rts_scoring_price'] != 0) & (ratings_df['rts_scoring_provider_change'] != 0) & (ratings_df['rts_scoring_service'] != 0)]"
   ]
  },
  {
   "cell_type": "code",
   "execution_count": 94,
   "id": "6e7369ba-e612-4cd5-aebe-8d314c51b463",
   "metadata": {},
   "outputs": [
    {
     "data": {
      "text/html": [
       "<div>\n",
       "<style scoped>\n",
       "    .dataframe tbody tr th:only-of-type {\n",
       "        vertical-align: middle;\n",
       "    }\n",
       "\n",
       "    .dataframe tbody tr th {\n",
       "        vertical-align: top;\n",
       "    }\n",
       "\n",
       "    .dataframe thead th {\n",
       "        text-align: right;\n",
       "    }\n",
       "</style>\n",
       "<table border=\"1\" class=\"dataframe\">\n",
       "  <thead>\n",
       "    <tr style=\"text-align: right;\">\n",
       "      <th></th>\n",
       "      <th>rts_id</th>\n",
       "      <th>rts_title</th>\n",
       "      <th>rts_scoring_price</th>\n",
       "      <th>rts_scoring_provider_change</th>\n",
       "      <th>rts_scoring_service</th>\n",
       "      <th>rts_date_of_order</th>\n",
       "      <th>rts_date_of_change</th>\n",
       "      <th>rts_provider</th>\n",
       "    </tr>\n",
       "  </thead>\n",
       "  <tbody>\n",
       "    <tr>\n",
       "      <th>0</th>\n",
       "      <td>1</td>\n",
       "      <td>Kunde würde wieder zu diesem Anbieter wechseln.</td>\n",
       "      <td>100</td>\n",
       "      <td>80</td>\n",
       "      <td>100</td>\n",
       "      <td>Mai 2024</td>\n",
       "      <td>Juni 2024</td>\n",
       "      <td>Stadtwerke Karlsruhe</td>\n",
       "    </tr>\n",
       "    <tr>\n",
       "      <th>2</th>\n",
       "      <td>3</td>\n",
       "      <td>Kunde würde wieder zu diesem Anbieter wechseln.</td>\n",
       "      <td>80</td>\n",
       "      <td>100</td>\n",
       "      <td>100</td>\n",
       "      <td>April 2024</td>\n",
       "      <td>Juni 2024</td>\n",
       "      <td>Stadtwerke Karlsruhe</td>\n",
       "    </tr>\n",
       "    <tr>\n",
       "      <th>4</th>\n",
       "      <td>5</td>\n",
       "      <td>Kunde würde wieder zu diesem Anbieter wechseln.</td>\n",
       "      <td>100</td>\n",
       "      <td>100</td>\n",
       "      <td>100</td>\n",
       "      <td>April 2024</td>\n",
       "      <td>Mai 2024</td>\n",
       "      <td>Stadtwerke Karlsruhe</td>\n",
       "    </tr>\n",
       "    <tr>\n",
       "      <th>6</th>\n",
       "      <td>7</td>\n",
       "      <td>Kunde würde wieder zu diesem Anbieter wechseln.</td>\n",
       "      <td>100</td>\n",
       "      <td>100</td>\n",
       "      <td>100</td>\n",
       "      <td>März 2024</td>\n",
       "      <td>Mai 2024</td>\n",
       "      <td>Stadtwerke Karlsruhe</td>\n",
       "    </tr>\n",
       "    <tr>\n",
       "      <th>9</th>\n",
       "      <td>10</td>\n",
       "      <td>Kunde würde wieder zu diesem Anbieter wechseln.</td>\n",
       "      <td>80</td>\n",
       "      <td>100</td>\n",
       "      <td>100</td>\n",
       "      <td>März 2024</td>\n",
       "      <td>April 2024</td>\n",
       "      <td>Stadtwerke Karlsruhe</td>\n",
       "    </tr>\n",
       "    <tr>\n",
       "      <th>...</th>\n",
       "      <td>...</td>\n",
       "      <td>...</td>\n",
       "      <td>...</td>\n",
       "      <td>...</td>\n",
       "      <td>...</td>\n",
       "      <td>...</td>\n",
       "      <td>...</td>\n",
       "      <td>...</td>\n",
       "    </tr>\n",
       "    <tr>\n",
       "      <th>126</th>\n",
       "      <td>127</td>\n",
       "      <td>Kunde würde wieder zu diesem Anbieter wechseln.</td>\n",
       "      <td>100</td>\n",
       "      <td>100</td>\n",
       "      <td>100</td>\n",
       "      <td>September 2020</td>\n",
       "      <td>November 2020</td>\n",
       "      <td>Stadtwerke Karlsruhe</td>\n",
       "    </tr>\n",
       "    <tr>\n",
       "      <th>127</th>\n",
       "      <td>128</td>\n",
       "      <td>Kunde würde wieder zu diesem Anbieter wechseln.</td>\n",
       "      <td>60</td>\n",
       "      <td>100</td>\n",
       "      <td>60</td>\n",
       "      <td>August 2020</td>\n",
       "      <td>November 2020</td>\n",
       "      <td>Stadtwerke Karlsruhe</td>\n",
       "    </tr>\n",
       "    <tr>\n",
       "      <th>128</th>\n",
       "      <td>129</td>\n",
       "      <td>Kunde würde nicht wieder zu diesem Anbieter we...</td>\n",
       "      <td>60</td>\n",
       "      <td>100</td>\n",
       "      <td>40</td>\n",
       "      <td>September 2020</td>\n",
       "      <td>November 2020</td>\n",
       "      <td>Stadtwerke Karlsruhe</td>\n",
       "    </tr>\n",
       "    <tr>\n",
       "      <th>131</th>\n",
       "      <td>132</td>\n",
       "      <td>Kunde würde wieder zu diesem Anbieter wechseln.</td>\n",
       "      <td>100</td>\n",
       "      <td>100</td>\n",
       "      <td>100</td>\n",
       "      <td>Juli 2020</td>\n",
       "      <td>Oktober 2020</td>\n",
       "      <td>Stadtwerke Karlsruhe</td>\n",
       "    </tr>\n",
       "    <tr>\n",
       "      <th>132</th>\n",
       "      <td>133</td>\n",
       "      <td>Kunde würde wieder zu diesem Anbieter wechseln.</td>\n",
       "      <td>100</td>\n",
       "      <td>100</td>\n",
       "      <td>100</td>\n",
       "      <td>August 2020</td>\n",
       "      <td>Oktober 2020</td>\n",
       "      <td>Stadtwerke Karlsruhe</td>\n",
       "    </tr>\n",
       "  </tbody>\n",
       "</table>\n",
       "<p>74 rows × 8 columns</p>\n",
       "</div>"
      ],
      "text/plain": [
       "     rts_id                                          rts_title  \\\n",
       "0         1    Kunde würde wieder zu diesem Anbieter wechseln.   \n",
       "2         3    Kunde würde wieder zu diesem Anbieter wechseln.   \n",
       "4         5    Kunde würde wieder zu diesem Anbieter wechseln.   \n",
       "6         7    Kunde würde wieder zu diesem Anbieter wechseln.   \n",
       "9        10    Kunde würde wieder zu diesem Anbieter wechseln.   \n",
       "..      ...                                                ...   \n",
       "126     127    Kunde würde wieder zu diesem Anbieter wechseln.   \n",
       "127     128    Kunde würde wieder zu diesem Anbieter wechseln.   \n",
       "128     129  Kunde würde nicht wieder zu diesem Anbieter we...   \n",
       "131     132    Kunde würde wieder zu diesem Anbieter wechseln.   \n",
       "132     133    Kunde würde wieder zu diesem Anbieter wechseln.   \n",
       "\n",
       "     rts_scoring_price  rts_scoring_provider_change  rts_scoring_service  \\\n",
       "0                  100                           80                  100   \n",
       "2                   80                          100                  100   \n",
       "4                  100                          100                  100   \n",
       "6                  100                          100                  100   \n",
       "9                   80                          100                  100   \n",
       "..                 ...                          ...                  ...   \n",
       "126                100                          100                  100   \n",
       "127                 60                          100                   60   \n",
       "128                 60                          100                   40   \n",
       "131                100                          100                  100   \n",
       "132                100                          100                  100   \n",
       "\n",
       "    rts_date_of_order rts_date_of_change          rts_provider  \n",
       "0            Mai 2024          Juni 2024  Stadtwerke Karlsruhe  \n",
       "2          April 2024          Juni 2024  Stadtwerke Karlsruhe  \n",
       "4          April 2024           Mai 2024  Stadtwerke Karlsruhe  \n",
       "6           März 2024           Mai 2024  Stadtwerke Karlsruhe  \n",
       "9           März 2024         April 2024  Stadtwerke Karlsruhe  \n",
       "..                ...                ...                   ...  \n",
       "126    September 2020      November 2020  Stadtwerke Karlsruhe  \n",
       "127       August 2020      November 2020  Stadtwerke Karlsruhe  \n",
       "128    September 2020      November 2020  Stadtwerke Karlsruhe  \n",
       "131         Juli 2020       Oktober 2020  Stadtwerke Karlsruhe  \n",
       "132       August 2020       Oktober 2020  Stadtwerke Karlsruhe  \n",
       "\n",
       "[74 rows x 8 columns]"
      ]
     },
     "execution_count": 94,
     "metadata": {},
     "output_type": "execute_result"
    }
   ],
   "source": [
    "detailed_ratings_df"
   ]
  },
  {
   "cell_type": "code",
   "execution_count": 132,
   "id": "021a17f8-0246-4d55-b97b-033a7632d7b7",
   "metadata": {},
   "outputs": [],
   "source": [
    "number_of_detailed_ratings = detailed_ratings_df.rts_id.count()"
   ]
  },
  {
   "cell_type": "code",
   "execution_count": 134,
   "id": "7e09e0b0-55d1-4b5e-a84e-cf7551452d51",
   "metadata": {},
   "outputs": [
    {
     "data": {
      "text/plain": [
       "74"
      ]
     },
     "execution_count": 134,
     "metadata": {},
     "output_type": "execute_result"
    }
   ],
   "source": [
    "number_of_detailed_ratings"
   ]
  },
  {
   "cell_type": "code",
   "execution_count": 136,
   "id": "c5a74197-4166-4e31-9d4c-1d83a06f8123",
   "metadata": {},
   "outputs": [],
   "source": [
    "detailed_rating_ratio = number_of_detailed_ratings / number_of_ratings"
   ]
  },
  {
   "cell_type": "code",
   "execution_count": 138,
   "id": "f3857f99-9a2f-4b2d-b5a1-a3a6cdcfbea8",
   "metadata": {},
   "outputs": [
    {
     "data": {
      "text/plain": [
       "0.5441176470588235"
      ]
     },
     "execution_count": 138,
     "metadata": {},
     "output_type": "execute_result"
    }
   ],
   "source": [
    "detailed_rating_ratio"
   ]
  },
  {
   "cell_type": "markdown",
   "id": "1055b5e8-9799-488e-afc0-75648d261936",
   "metadata": {},
   "source": [
    "\n",
    "Nur rund 54% der Kunden haben sich die Zeit genommen und den Anbieter ausführlich bewertet mit einer Punktevergabe\n"
   ]
  },
  {
   "cell_type": "code",
   "execution_count": 140,
   "id": "c40cd9e2-9497-454b-9a0a-e948cba146e4",
   "metadata": {},
   "outputs": [],
   "source": [
    "number_of_good_detailed_ratings = detailed_ratings_df[detailed_ratings_df['rts_title'] == 'Kunde würde wieder zu diesem Anbieter wechseln.'].rts_id.count()"
   ]
  },
  {
   "cell_type": "code",
   "execution_count": 142,
   "id": "3a60d8a4-0687-4b53-aa87-5131508e3745",
   "metadata": {},
   "outputs": [
    {
     "data": {
      "text/plain": [
       "67"
      ]
     },
     "execution_count": 142,
     "metadata": {},
     "output_type": "execute_result"
    }
   ],
   "source": [
    "number_of_good_detailed_ratings"
   ]
  },
  {
   "cell_type": "code",
   "execution_count": 144,
   "id": "de41e4f1-c4f4-4740-a927-606cb306f32a",
   "metadata": {},
   "outputs": [],
   "source": [
    "good_detailed_rating_ratio = number_of_good_detailed_ratings / number_of_detailed_ratings"
   ]
  },
  {
   "cell_type": "code",
   "execution_count": 146,
   "id": "50ce3792-cfd0-4a63-af93-bbe2508f44df",
   "metadata": {},
   "outputs": [
    {
     "data": {
      "text/plain": [
       "0.9054054054054054"
      ]
     },
     "execution_count": 146,
     "metadata": {},
     "output_type": "execute_result"
    }
   ],
   "source": [
    "good_detailed_rating_ratio"
   ]
  },
  {
   "cell_type": "markdown",
   "id": "fd8f1505-cbc9-4506-b298-39216b9c7b9f",
   "metadata": {},
   "source": [
    "Nimmt man nun das Verhältnis aus guten und detailierten Bewertungen und alle detailierten Bewertungen, so fällt das Verhältnis 2% Punkte besser aus, wie bei der Betrachtung aller Bewertungen."
   ]
  },
  {
   "cell_type": "code",
   "execution_count": 156,
   "id": "3d8257fb-4fbc-48c7-87e6-b3f561871bfc",
   "metadata": {},
   "outputs": [],
   "source": [
    "avg_scoring_price = ratings_df['rts_scoring_price'].mean()\n",
    "avg_scoring_service = ratings_df['rts_scoring_service'].mean()\n",
    "avg_scoring_change = ratings_df['rts_scoring_provider_change'].mean()"
   ]
  },
  {
   "cell_type": "code",
   "execution_count": 158,
   "id": "0396890f-a718-4ac2-a8a9-69e599972351",
   "metadata": {},
   "outputs": [
    {
     "data": {
      "text/plain": [
       "47.05882352941177"
      ]
     },
     "execution_count": 158,
     "metadata": {},
     "output_type": "execute_result"
    }
   ],
   "source": [
    "avg_scoring_price"
   ]
  },
  {
   "cell_type": "code",
   "execution_count": 160,
   "id": "c633e1dd-1ff0-4591-a3e3-b3017a6113b6",
   "metadata": {},
   "outputs": [
    {
     "data": {
      "text/plain": [
       "48.23529411764706"
      ]
     },
     "execution_count": 160,
     "metadata": {},
     "output_type": "execute_result"
    }
   ],
   "source": [
    "avg_scoring_service"
   ]
  },
  {
   "cell_type": "code",
   "execution_count": 162,
   "id": "9a23510e-fb55-4a17-811a-dbab494027b1",
   "metadata": {},
   "outputs": [
    {
     "data": {
      "text/plain": [
       "52.35294117647059"
      ]
     },
     "execution_count": 162,
     "metadata": {},
     "output_type": "execute_result"
    }
   ],
   "source": [
    "avg_scoring_change"
   ]
  },
  {
   "cell_type": "code",
   "execution_count": 164,
   "id": "bf21ab28-894b-4ede-8f31-78516fe88563",
   "metadata": {},
   "outputs": [],
   "source": [
    "detailed_avg_scoring_price = detailed_ratings_df['rts_scoring_price'].mean()\n",
    "detailed_avg_scoring_service = detailed_ratings_df['rts_scoring_service'].mean()\n",
    "detailed_avg_scoring_change = detailed_ratings_df['rts_scoring_provider_change'].mean()"
   ]
  },
  {
   "cell_type": "code",
   "execution_count": 166,
   "id": "19fa1c7a-4a76-482a-b706-4c26e6cccbc6",
   "metadata": {},
   "outputs": [
    {
     "data": {
      "text/plain": [
       "82.97297297297297"
      ]
     },
     "execution_count": 166,
     "metadata": {},
     "output_type": "execute_result"
    }
   ],
   "source": [
    "detailed_avg_scoring_price"
   ]
  },
  {
   "cell_type": "code",
   "execution_count": 168,
   "id": "b8619191-f62b-4f92-b6df-f828bd2116fb",
   "metadata": {},
   "outputs": [
    {
     "data": {
      "text/plain": [
       "87.29729729729729"
      ]
     },
     "execution_count": 168,
     "metadata": {},
     "output_type": "execute_result"
    }
   ],
   "source": [
    "detailed_avg_scoring_service"
   ]
  },
  {
   "cell_type": "code",
   "execution_count": 170,
   "id": "8280e4b7-b285-482d-a09d-2c86c1500bba",
   "metadata": {},
   "outputs": [
    {
     "data": {
      "text/plain": [
       "89.45945945945945"
      ]
     },
     "execution_count": 170,
     "metadata": {},
     "output_type": "execute_result"
    }
   ],
   "source": [
    "detailed_avg_scoring_change"
   ]
  },
  {
   "cell_type": "markdown",
   "id": "f2e2b080-f721-44ee-a686-f05758bf2749",
   "metadata": {},
   "source": [
    "## Schlussfolgerung / Antwort Ziel 2\n",
    "\n",
    "Es stellt sich heraus, dass Verivox an dieser Stelle alle Bewertungen ohne Punktevergabe vernachlässigt. Wodurch sich die Gesamtbewertung der einzelnen Kriterien deutlich verbessert.\n",
    "\n",
    "Kritisch zu betrachten ist jedoch die Tatsache, dass ebenfalls Bewertungen, bei denen bewusst 0 Punkte vergeben wurden, nicht mit einfließen. Aufgrund der guten Bewertungen, ist im Fall der Stadtwerke Karlsruhe zwar davon auszugehen, dass dies nie oder nur sehr sehr selten der Fall sein würde, jedoch gilt keine Allgemeingültigkeit für diesen Sachverhalt. Somit kann der Fall auftreten, dass Anbieter besser dargestellt werden, als diese tatsächlich durch den Kunden bewertet wurden."
   ]
  }
 ],
 "metadata": {
  "kernelspec": {
   "display_name": "Python 3 (ipykernel)",
   "language": "python",
   "name": "python3"
  },
  "language_info": {
   "codemirror_mode": {
    "name": "ipython",
    "version": 3
   },
   "file_extension": ".py",
   "mimetype": "text/x-python",
   "name": "python",
   "nbconvert_exporter": "python",
   "pygments_lexer": "ipython3",
   "version": "3.12.4"
  }
 },
 "nbformat": 4,
 "nbformat_minor": 5
}
